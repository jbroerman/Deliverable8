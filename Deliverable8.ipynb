{
  "nbformat": 4,
  "nbformat_minor": 0,
  "metadata": {
    "colab": {
      "provenance": []
    },
    "kernelspec": {
      "name": "python3",
      "display_name": "Python 3"
    },
    "language_info": {
      "name": "python"
    }
  },
  "cells": [
    {
      "cell_type": "code",
      "source": [
        "import random\n",
        "import numpy as np"
      ],
      "metadata": {
        "id": "PKlkgG3dF7e9"
      },
      "execution_count": 21,
      "outputs": []
    },
    {
      "cell_type": "code",
      "source": [
        "def MyList(length):\n",
        "    return [random.randint(10, 50) for _ in range(length)]\n",
        "\n",
        "def MySum(lst):\n",
        "    return sum(lst)"
      ],
      "metadata": {
        "id": "f52FOUO1GEkz"
      },
      "execution_count": 22,
      "outputs": []
    },
    {
      "cell_type": "code",
      "source": [
        "while True:\n",
        "    num = int(input(\"Enter an integer number that is between 5 and 15: \"))\n",
        "    if num >= 5 and num <= 15:\n",
        "        break\n",
        "    print(\"Invalid input. Try again.\")"
      ],
      "metadata": {
        "colab": {
          "base_uri": "https://localhost:8080/"
        },
        "id": "pwSVfnRuGKFO",
        "outputId": "0289b026-7b74-407c-c38c-72a938ea472b"
      },
      "execution_count": 23,
      "outputs": [
        {
          "name": "stdout",
          "output_type": "stream",
          "text": [
            "Enter an integer number between 5 and 15: 7\n"
          ]
        }
      ]
    },
    {
      "cell_type": "code",
      "source": [
        "lst = MyList(num)\n",
        "print(\"The elements of the arrays are:\", *lst)\n",
        "print(\"The sum is:\", MySum(lst))"
      ],
      "metadata": {
        "colab": {
          "base_uri": "https://localhost:8080/"
        },
        "id": "jCfWs8rQGQwj",
        "outputId": "1697b7c1-8d63-4f58-de07-5ac06dfa3689"
      },
      "execution_count": 24,
      "outputs": [
        {
          "output_type": "stream",
          "name": "stdout",
          "text": [
            "The elements of the array are: 36 33 14 46 37 46 32\n",
            "The sum is: 244\n"
          ]
        }
      ]
    }
  ]
}